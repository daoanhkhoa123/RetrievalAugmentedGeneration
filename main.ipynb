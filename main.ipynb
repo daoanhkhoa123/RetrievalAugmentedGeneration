{
 "cells": [
  {
   "cell_type": "code",
   "execution_count": 1,
   "metadata": {},
   "outputs": [],
   "source": [
    "import sys\n",
    "import load_pdf\n",
    "import model"
   ]
  },
  {
   "cell_type": "code",
   "execution_count": 2,
   "metadata": {},
   "outputs": [],
   "source": [
    "PDF_NAME = \"information_retireval.pdf\"\n",
    "QUERY = \"Ranked retireval\""
   ]
  },
  {
   "cell_type": "code",
   "execution_count": null,
   "metadata": {},
   "outputs": [
    {
     "name": "stdout",
     "output_type": "stream",
     "text": [
      "Embedding pdf file...\n"
     ]
    },
    {
     "name": "stderr",
     "output_type": "stream",
     "text": [
      "0it [00:00, ?it/s]"
     ]
    },
    {
     "name": "stderr",
     "output_type": "stream",
     "text": [
      "624it [00:01, 349.92it/s]\n",
      "100%|██████████| 624/624 [00:02<00:00, 282.85it/s]\n",
      "100%|██████████| 624/624 [00:00<00:00, 623153.74it/s]\n",
      "100%|██████████| 624/624 [00:00<00:00, 17811.30it/s]\n",
      "100%|██████████| 1409/1409 [01:49<00:00, 12.85it/s]\n"
     ]
    },
    {
     "name": "stdout",
     "output_type": "stream",
     "text": [
      "Embedding file saved! See data_set\\embedd.csv\n",
      "Pdf loaded!: 1409 pages and torch.Size([1409, 768]) embedding tensor!\n",
      "Your device is: cuda\n",
      "Available GPU memory: 4 GB\n",
      "Your available GPU memory is 4GB, you may not have enough memory to run a Gemma LLM locally without quantization.\n",
      "You are using None Use quantization config is True\n",
      "Your fask attention is sdpa\n"
     ]
    },
    {
     "data": {
      "application/vnd.jupyter.widget-view+json": {
       "model_id": "16cbc398622c44db920b8f607a64e515",
       "version_major": 2,
       "version_minor": 0
      },
      "text/plain": [
       "model.safetensors.index.json:   0%|          | 0.00/43.3k [00:00<?, ?B/s]"
      ]
     },
     "metadata": {},
     "output_type": "display_data"
    },
    {
     "data": {
      "application/vnd.jupyter.widget-view+json": {
       "model_id": "dc3f6aa653764579895771be5eb6bbc2",
       "version_major": 2,
       "version_minor": 0
      },
      "text/plain": [
       "Downloading shards:   0%|          | 0/2 [00:00<?, ?it/s]"
      ]
     },
     "metadata": {},
     "output_type": "display_data"
    },
    {
     "data": {
      "application/vnd.jupyter.widget-view+json": {
       "model_id": "76b0bc0a04b142fcae6b9de79463cf67",
       "version_major": 2,
       "version_minor": 0
      },
      "text/plain": [
       "model-00001-of-00002.safetensors:   0%|          | 0.00/4.98G [00:00<?, ?B/s]"
      ]
     },
     "metadata": {},
     "output_type": "display_data"
    }
   ],
   "source": [
    "load_pdf.embed_pdf(PDF_NAME)\n",
    "pages_and_chunks, embedding = load_pdf.load_embed()\n",
    "tokenizer, lln_model = model.prepare_model(\n",
    "    \"distributed/optimized-gpt2-2b\", trust_remote_code=True)"
   ]
  },
  {
   "cell_type": "code",
   "execution_count": null,
   "metadata": {},
   "outputs": [],
   "source": [
    "\n",
    "\n",
    "print(model.ask(QUERY, pages_and_chunks, embedding, tokenizer, lln_model))"
   ]
  }
 ],
 "metadata": {
  "kernelspec": {
   "display_name": "pylang",
   "language": "python",
   "name": "python3"
  },
  "language_info": {
   "codemirror_mode": {
    "name": "ipython",
    "version": 3
   },
   "file_extension": ".py",
   "mimetype": "text/x-python",
   "name": "python",
   "nbconvert_exporter": "python",
   "pygments_lexer": "ipython3",
   "version": "3.12.3"
  }
 },
 "nbformat": 4,
 "nbformat_minor": 2
}
