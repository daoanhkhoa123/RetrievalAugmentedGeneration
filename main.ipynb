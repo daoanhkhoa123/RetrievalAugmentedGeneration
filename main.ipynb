{
 "cells": [
  {
   "cell_type": "code",
   "execution_count": null,
   "metadata": {},
   "outputs": [],
   "source": [
    "import sys\n",
    "import load_pdf\n",
    "import model"
   ]
  },
  {
   "cell_type": "code",
   "execution_count": null,
   "metadata": {},
   "outputs": [],
   "source": [
    "PDF_NAME = \"information_retireval.pdf\"\n",
    "QUERY = \"\"\n",
    "\n",
    "load_pdf.embed_pdf(PDF_NAME)\n",
    "pages_and_chunks, embedding = load_pdf.load_embed()\n",
    "tokenizer, lln_model = model.prepare_model()\n",
    "\n",
    "print(model.ask(QUERY, pages_and_chunks, embedding, tokenizer, lln_model))"
   ]
  }
 ],
 "metadata": {
  "kernelspec": {
   "display_name": "pylang",
   "language": "python",
   "name": "python3"
  },
  "language_info": {
   "name": "python",
   "version": "3.12.3"
  }
 },
 "nbformat": 4,
 "nbformat_minor": 2
}
